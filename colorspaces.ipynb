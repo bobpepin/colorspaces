{
 "cells": [
  {
   "cell_type": "code",
   "execution_count": null,
   "metadata": {},
   "outputs": [],
   "source": [
    "from pathlib import Path\n",
    "from collections import defaultdict\n",
    "from PIL import Image\n",
    "import numpy as np\n"
   ]
  },
  {
   "cell_type": "code",
   "execution_count": null,
   "metadata": {},
   "outputs": [],
   "source": [
    "import plotly.offline as ply\n",
    "ply.init_notebook_mode(connected=True)"
   ]
  },
  {
   "cell_type": "code",
   "execution_count": null,
   "metadata": {},
   "outputs": [],
   "source": [
    "conversions = defaultdict(dict)\n",
    "def conversion(src, dst):\n",
    "    def register(fn):\n",
    "        conversions[src][dst] = fn\n",
    "        return fn\n",
    "    return register\n",
    "    \n",
    "def convert(data, chain):\n",
    "    sources = chain[:-1]\n",
    "    dests = chain[1:]\n",
    "    for src, dst in zip(sources, dests):\n",
    "        data = conversions[src][dst](data)\n",
    "    return data"
   ]
  },
  {
   "cell_type": "code",
   "execution_count": null,
   "metadata": {},
   "outputs": [],
   "source": [
    "def parse_matrix(matstr):\n",
    "    rows = matstr.strip().split(\"\\n\")\n",
    "    mat = [[float(n) for n in row.split()] for row in rows]\n",
    "    return np.array(mat)"
   ]
  },
  {
   "cell_type": "code",
   "execution_count": null,
   "metadata": {},
   "outputs": [],
   "source": [
    "rgb2xyz_matrix_str = \"\"\"\n",
    " 0.4124564  0.3575761  0.1804375\n",
    " 0.2126729  0.7151522  0.0721750\n",
    " 0.0193339  0.1191920  0.9503041\n",
    "\"\"\"\n",
    "\n",
    "rgb2xyz_matrix = parse_matrix(rgb2xyz_matrix_str)\n",
    "\n",
    "def invcompand_sRGB(V):\n",
    "    return np.where(V <= 0.04045, V / 12.92, ((V+0.055)/1.055)**2.4)\n",
    "\n",
    "@conversion(\"sRGB\", \"XYZ\")\n",
    "def sRGB_to_XYZ(sRGB):\n",
    "    RGB = invcompand_sRGB(sRGB / 255.0)\n",
    "    XYZ = (RGB.reshape([-1, 3]) @ rgb2xyz_matrix.T).reshape(sRGB.shape)\n",
    "    return XYZ"
   ]
  },
  {
   "cell_type": "code",
   "execution_count": null,
   "metadata": {},
   "outputs": [],
   "source": [
    "def compand_sRGB(v):\n",
    "    return np.where(v <= 0.0031308, 12.92*v, 1.055 * v**(1/2.4) - 0.055)\n",
    "\n",
    "XYZ_to_sRGB_matrix_str = \"\"\"\n",
    " 3.2404542 -1.5371385 -0.4985314\n",
    "-0.9692660  1.8760108  0.0415560\n",
    " 0.0556434 -0.2040259  1.0572252\n",
    "\"\"\"\n",
    "\n",
    "XYZ_to_sRGB_matrix = parse_matrix(XYZ_to_sRGB_matrix_str)\n",
    "\n",
    "@conversion(\"XYZ\", \"sRGB\")\n",
    "def XYZ_to_sRGB(XYZ):\n",
    "    RGB = (XYZ.reshape([-1, 3]) @ XYZ_to_sRGB_matrix.T).reshape(XYZ.shape)\n",
    "    sRGB = compand_sRGB(RGB)\n",
    "    return sRGB"
   ]
  },
  {
   "cell_type": "code",
   "execution_count": null,
   "metadata": {},
   "outputs": [],
   "source": [
    "@conversion(\"xyY\", \"XYZ\")\n",
    "def xyY_to_XYZ(xyY):\n",
    "    x = xyY[..., 0]\n",
    "    y = xyY[..., 1]\n",
    "    Y = xyY[..., 2]\n",
    "    X = x/y * Y\n",
    "    Z = (1-x-y)/y * Y\n",
    "    return np.stack([X, Y, Z], axis=-1)\n",
    "\n",
    "@conversion(\"XYZ\", \"xyY\")\n",
    "def XYZ_to_xyY(XYZ):\n",
    "    X, Y, Z = XYZ[..., 0], XYZ[..., 1], XYZ[..., 2]\n",
    "    x = X / (X+Y+Z)\n",
    "    y = Y / (X+Y+Z)\n",
    "    x[np.isnan(x)] = 0.33\n",
    "    y[np.isnan(y)] = 0.33\n",
    "    return np.stack([x, y, Y], axis=-1)"
   ]
  },
  {
   "cell_type": "code",
   "execution_count": null,
   "metadata": {},
   "outputs": [],
   "source": [
    "D65_xyY = np.array([[0.31271, 0.32902, 1]])\n",
    "D65_XYZ = XYZ_to_xyY(D65_xyY)\n",
    "\n",
    "@conversion(\"XYZ\", \"LUV_D65\")\n",
    "def XYZ_to_LUV_D65(XYZ):\n",
    "    epsilon = 216/24389\n",
    "    kappa = 24389/27\n",
    "    X, Y, Z = XYZ[..., 0], XYZ[..., 1], XYZ[..., 2]\n",
    "    X_r, Y_r, Z_r = D65_XYZ[..., 0], D65_XYZ[..., 1], D65_XYZ[..., 2]\n",
    "    u1 = 4*X/(X+15*Y+3*Z)\n",
    "    v1 = 9*Y/(X+15*Y+3*Z)\n",
    "    u1_r = 4*X_r/(X_r+15*Y_r+3*Z_r)\n",
    "    v1_r = 9*Y_r/(X_r+15*Y_r+3*Z_r)\n",
    "    yr = Y/Y_r\n",
    "    L = np.where(y_r > epsilon, 116 * y_r**(1/3)-16, kappa*y_r)\n",
    "    u = 13*L*(u1-u1_r)\n",
    "    v = 13*L*(v1-v1_r)\n",
    "    return np.stack([L, u, v], axis=-1)"
   ]
  },
  {
   "cell_type": "code",
   "execution_count": null,
   "metadata": {},
   "outputs": [],
   "source": [
    "image_paths = list(Path(\"mastodon\").glob(\"*\"))\n",
    "image_paths"
   ]
  },
  {
   "cell_type": "code",
   "execution_count": null,
   "metadata": {
    "scrolled": true
   },
   "outputs": [],
   "source": [
    "import random\n",
    "idx = random.choice(range(len(image_paths)))\n",
    "image = Image.open(image_paths[idx])\n",
    "\n",
    "image"
   ]
  },
  {
   "cell_type": "code",
   "execution_count": null,
   "metadata": {},
   "outputs": [],
   "source": [
    "xyY = convert(sRGB, [\"sRGB\", \"XYZ\", \"xyY\"])"
   ]
  },
  {
   "cell_type": "code",
   "execution_count": null,
   "metadata": {},
   "outputs": [],
   "source": [
    "from KDEpy import FFTKDE\n",
    "kde = FFTKDE(bw=0.005)\n",
    "points = np.stack([xyY[..., 0].flatten(), xyY[..., 1].flatten()], axis=-1)\n",
    "kde.fit(points)\n",
    "range_y = np.linspace(0, 0.65, 256)\n",
    "range_x = np.linspace(0.10, 0.75, 256)\n",
    "grid_y, grid_x = np.meshgrid(range_y, range_x)\n",
    "grid = np.stack([grid_x.flatten(), grid_y.flatten()], axis=-1)\n",
    "pdf = kde.evaluate(grid)\n",
    "\n",
    "grid = grid.reshape([*grid_x.shape, 2])\n",
    "pdf = pdf.reshape(grid_x.shape)\n",
    "\n",
    "grid_xyY = np.block([grid, 0.6*np.ones((*grid.shape[:-1], 1))])\n",
    "grid_XYZ = xyY_to_XYZ(grid_xyY)\n",
    "grid_sRGB = XYZ_to_sRGB(grid_XYZ)\n",
    "\n",
    "invalid_sRGB = (np.min(grid_sRGB, axis=-1) < 0) | (np.max(grid_sRGB, axis=-1) > 1)\n",
    "grid_sRGB[invalid_sRGB] = 1"
   ]
  },
  {
   "cell_type": "code",
   "execution_count": null,
   "metadata": {},
   "outputs": [],
   "source": [
    "thres = np.quantile(pdf, 0.99)\n",
    "norm_pdf = np.where(pdf <= thres, pdf / thres, 1)\n",
    "sRGBA = np.block([grid_sRGB, norm_pdf[..., None]])\n",
    "sRGBA = np.swapaxes(sRGBA, 0, 1)[:1:-1]\n",
    "chroma_image = Image.fromarray(np.ascontiguousarray(sRGBA*255, dtype=np.uint8))\n",
    "chroma_image"
   ]
  }
 ],
 "metadata": {
  "kernelspec": {
   "display_name": "Python 3",
   "language": "python",
   "name": "python3"
  },
  "language_info": {
   "codemirror_mode": {
    "name": "ipython",
    "version": 3
   },
   "file_extension": ".py",
   "mimetype": "text/x-python",
   "name": "python",
   "nbconvert_exporter": "python",
   "pygments_lexer": "ipython3",
   "version": "3.7.3"
  }
 },
 "nbformat": 4,
 "nbformat_minor": 2
}
