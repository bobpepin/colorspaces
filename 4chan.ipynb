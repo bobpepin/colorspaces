{
 "cells": [
  {
   "cell_type": "code",
   "execution_count": 15,
   "metadata": {},
   "outputs": [],
   "source": [
    "import basc_py4chan\n",
    "\n",
    "board = basc_py4chan.Board('bant')\n",
    "\n",
    "threads = board.get_threads()\n"
   ]
  },
  {
   "cell_type": "code",
   "execution_count": 16,
   "metadata": {},
   "outputs": [
    {
     "data": {
      "text/plain": [
       "[<Thread /bant/2, 0 replies>,\n",
       " <Thread /bant/8371834, 3 replies, 29 omitted images, 54 omitted posts>,\n",
       " <Thread /bant/8371316, 3 replies, 44 omitted images, 60 omitted posts>,\n",
       " <Thread /bant/8372841, 1 replies>,\n",
       " <Thread /bant/8372587, 3 replies, 0 omitted images, 3 omitted posts>,\n",
       " <Thread /bant/8372123, 3 replies, 37 omitted images, 74 omitted posts>,\n",
       " <Thread /bant/8372703, 3 replies, 2 omitted images, 4 omitted posts>,\n",
       " <Thread /bant/8372451, 3 replies, 34 omitted images, 44 omitted posts>,\n",
       " <Thread /bant/8372724, 3 replies, 5 omitted images, 18 omitted posts>,\n",
       " <Thread /bant/8370491, 3 replies, 3 omitted images, 24 omitted posts>,\n",
       " <Thread /bant/8331316, 3 replies, 1 omitted images, 15 omitted posts>,\n",
       " <Thread /bant/8372446, 3 replies, 0 omitted images, 12 omitted posts>,\n",
       " <Thread /bant/8371960, 3 replies, 4 omitted images, 4 omitted posts>,\n",
       " <Thread /bant/8372829, 2 replies>,\n",
       " <Thread /bant/8354746, 3 replies, 65 omitted images, 148 omitted posts>]"
      ]
     },
     "execution_count": 16,
     "metadata": {},
     "output_type": "execute_result"
    }
   ],
   "source": [
    "threads"
   ]
  },
  {
   "cell_type": "code",
   "execution_count": 22,
   "metadata": {},
   "outputs": [
    {
     "data": {
      "text/plain": [
       "['http://i.4cdn.org/bant/1562948666819.jpg',\n",
       " 'http://i.4cdn.org/bant/1562949574326.jpg',\n",
       " 'http://i.4cdn.org/bant/1562950076597.jpg',\n",
       " 'http://i.4cdn.org/bant/1562950919601.jpg',\n",
       " 'http://i.4cdn.org/bant/1562951145951.jpg',\n",
       " 'http://i.4cdn.org/bant/1562951249789.jpg',\n",
       " 'http://i.4cdn.org/bant/1562951758626.jpg',\n",
       " 'http://i.4cdn.org/bant/1562952191932.jpg',\n",
       " 'http://i.4cdn.org/bant/1562952596355.jpg',\n",
       " 'http://i.4cdn.org/bant/1562953108122.jpg',\n",
       " 'http://i.4cdn.org/bant/1562953307208.jpg',\n",
       " 'http://i.4cdn.org/bant/1562954058220.gif',\n",
       " 'http://i.4cdn.org/bant/1562956680763.jpg',\n",
       " 'http://i.4cdn.org/bant/1562956977146.jpg',\n",
       " 'http://i.4cdn.org/bant/1562957347181.jpg',\n",
       " 'http://i.4cdn.org/bant/1562957409124.jpg',\n",
       " 'http://i.4cdn.org/bant/1562957534301.jpg',\n",
       " 'http://i.4cdn.org/bant/1562957670733.jpg',\n",
       " 'http://i.4cdn.org/bant/1562957837915.jpg',\n",
       " 'http://i.4cdn.org/bant/1562958049979.jpg',\n",
       " 'http://i.4cdn.org/bant/1562958177748.jpg',\n",
       " 'http://i.4cdn.org/bant/1562958318051.jpg',\n",
       " 'http://i.4cdn.org/bant/1562958507941.png',\n",
       " 'http://i.4cdn.org/bant/1562958602912.jpg',\n",
       " 'http://i.4cdn.org/bant/1562958710377.png',\n",
       " 'http://i.4cdn.org/bant/1562958818053.jpg',\n",
       " 'http://i.4cdn.org/bant/1562959203312.gif',\n",
       " 'http://i.4cdn.org/bant/1562959842328.jpg',\n",
       " 'http://i.4cdn.org/bant/1562960962354.jpg',\n",
       " 'http://i.4cdn.org/bant/1562961823998.jpg']"
      ]
     },
     "execution_count": 22,
     "metadata": {},
     "output_type": "execute_result"
    }
   ],
   "source": [
    "t0 = threads[1]\n",
    "t0.expand()\n",
    "list(t0.files())"
   ]
  },
  {
   "cell_type": "code",
   "execution_count": 23,
   "metadata": {},
   "outputs": [],
   "source": [
    "from urllib.parse import quote\n",
    "def gen_filename(thread, file):\n",
    "    return f\"{quote(thread.url, safe='')}_{quote(file, safe='')}\"\n",
    "for t in threads: t.expand()\n",
    "downloads = [(f, gen_filename(t, f)) for t in threads for f in t.files()]"
   ]
  },
  {
   "cell_type": "code",
   "execution_count": 24,
   "metadata": {},
   "outputs": [],
   "source": [
    "from pathlib import Path\n",
    "with Path(\"4chan.aria2.txt\").open(\"w\") as f:\n",
    "    for src, dst in downloads:\n",
    "        f.write(f\"{src}\\n\\tout={dst}\\n\")"
   ]
  }
 ],
 "metadata": {
  "kernelspec": {
   "display_name": "Python 3",
   "language": "python",
   "name": "python3"
  },
  "language_info": {
   "codemirror_mode": {
    "name": "ipython",
    "version": 3
   },
   "file_extension": ".py",
   "mimetype": "text/x-python",
   "name": "python",
   "nbconvert_exporter": "python",
   "pygments_lexer": "ipython3",
   "version": "3.7.3"
  }
 },
 "nbformat": 4,
 "nbformat_minor": 2
}
